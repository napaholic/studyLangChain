{
 "cells": [
  {
   "cell_type": "code",
   "execution_count": 3,
   "id": "initial_id",
   "metadata": {
    "collapsed": true,
    "ExecuteTime": {
     "end_time": "2024-03-27T02:48:08.554140Z",
     "start_time": "2024-03-27T02:48:07.402821Z"
    }
   },
   "outputs": [
    {
     "data": {
      "text/plain": "'안녕하세요! 날씨가 좋고 기분도 좋아요. 여러분도 좋은 하루 보내시길 바래요.😊🌞'"
     },
     "execution_count": 3,
     "metadata": {},
     "output_type": "execute_result"
    }
   ],
   "source": [
    "import sys\n",
    "from dotenv import load_dotenv\n",
    "import os\n",
    "from langchain.chat_models import ChatOpenAI\n",
    "from langchain.llms import OpenAI\n",
    "\n",
    "#load_dotenv() # take environment variables from .env.\n",
    "\n",
    "#print(os.getenv(\"OPENAI_API_KEY\"))\n",
    "#print(sys.executable)\n",
    "\n",
    "\n",
    "chat = ChatOpenAI()\n",
    "\n",
    "b = chat.predict(\"안녕 좋은날씨야, 기분은 어때?\")\n",
    "\n",
    "b\n"
   ]
  },
  {
   "cell_type": "code",
   "outputs": [],
   "source": [],
   "metadata": {
    "collapsed": false
   },
   "id": "7702726a8f34b772"
  }
 ],
 "metadata": {
  "kernelspec": {
   "display_name": "Python 3",
   "language": "python",
   "name": "python3"
  },
  "language_info": {
   "codemirror_mode": {
    "name": "ipython",
    "version": 2
   },
   "file_extension": ".py",
   "mimetype": "text/x-python",
   "name": "python",
   "nbconvert_exporter": "python",
   "pygments_lexer": "ipython2",
   "version": "2.7.6"
  }
 },
 "nbformat": 4,
 "nbformat_minor": 5
}
